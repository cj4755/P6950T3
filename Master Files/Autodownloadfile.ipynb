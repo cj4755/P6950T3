{
 "cells": [
  {
   "cell_type": "code",
   "execution_count": null,
   "metadata": {
    "collapsed": true
   },
   "outputs": [],
   "source": [
    "import wget\n",
    "import pandas as pd\n",
    "import time as time\n",
    "import math\n",
    "\n",
    "#For example Station ID for YellowKnife = 1706\n",
    "#stationid = input(\"Please insert Station ID\")\n",
    "#start=input(\"please insert the strat of period\")\n",
    "#end= input(\"please insert the end of period\")\n",
    "# you can find the data from the below link\n",
    "#http://climate.weather.gc.ca/climate_data/daily_data_e.html?hlyRange=2012-03-20%7C2016-06-02&dlyRange=2012-03-20%7C2016-06-01&mlyRange=%7C&StationID=50089&Prov=NL&urlExtension=_e.html&searchType=stnName&optLimit=yearRange&StartYear=1840&EndYear=2016&selRowPerPage=25&Line=7&searchMethod=contains&txtStationName=st.+john%27s&timeframe=2&Year=2015&Month=1#\n",
    "#ST. JOHN'S INTL A NEWFOUNDLAND, station Id\n",
    "stationid=50089\n",
    "start=2015\n",
    "end=2015\n",
    "smonth=12\n",
    "while (start<=end):\n",
    "    smonth=1\n",
    "    while (smonth<=12):\n",
    "        url = 'http://climate.weather.gc.ca/climate_data/bulk_data_e.html?format=csv&stationID='+str(stationid)+'&Year='+str(start)+'&Month='+str(smonth)+'&Day=31&timeframe=2&submit= Download+Data'\n",
    "        smonth=smonth+1\n",
    "        filename=wget.download(url)\n",
    "        hourly_data=pd.read_csv(filename,encoding='ISO-8859-1',delimiter=\",\", skiprows=25)\n",
    "        df = pd.DataFrame(hourly_data, columns = ['Max Temp (°C)', 'Min Temp (°C)'])\n",
    "        # Drop missing Data eg NAN\n",
    "        df2 = df.dropna()\n",
    "        # check if Dataframe is Empty\n",
    "        if not df2.empty:\n",
    "            print(df2)\n",
    "    start=start+1 "
   ]
  }
 ],
 "metadata": {
  "kernelspec": {
   "display_name": "Python 3",
   "language": "python",
   "name": "python3"
  },
  "language_info": {
   "codemirror_mode": {
    "name": "ipython",
    "version": 3
   },
   "file_extension": ".py",
   "mimetype": "text/x-python",
   "name": "python",
   "nbconvert_exporter": "python",
   "pygments_lexer": "ipython3",
   "version": "3.5.1"
  }
 },
 "nbformat": 4,
 "nbformat_minor": 0
}
